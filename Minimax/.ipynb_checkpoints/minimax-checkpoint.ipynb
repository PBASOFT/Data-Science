{
 "cells": [
  {
   "cell_type": "markdown",
   "metadata": {},
   "source": [
    "# Tic Tac Toe Minimax\n",
    "\n",
    "This is a game, in which AI starts playing. Ai is unbeatable due to it's use of the minimax algorithm."
   ]
  },
  {
   "cell_type": "markdown",
   "metadata": {},
   "source": [
    "## Initialization"
   ]
  },
  {
   "cell_type": "code",
   "execution_count": 1,
   "metadata": {},
   "outputs": [],
   "source": [
    "# Initialize the players and signs\n",
    "EMPTY = '.'\n",
    "AI = 'X'\n",
    "HUMAN = 'O'"
   ]
  },
  {
   "cell_type": "code",
   "execution_count": 2,
   "metadata": {},
   "outputs": [],
   "source": [
    "# print the board, leave an empty lines and spaces for visibility\n",
    "def print_board(board):\n",
    "    print(\" \")\n",
    "    print(' '.join(board[:3]))\n",
    "    print(' '.join(board[3:6]))\n",
    "    print(' '.join(board[6:]))\n",
    "    print(\" \")"
   ]
  },
  {
   "cell_type": "code",
   "execution_count": 3,
   "metadata": {},
   "outputs": [
    {
     "name": "stdout",
     "output_type": "stream",
     "text": [
      " \n",
      ". . .\n",
      ". . .\n",
      ". . .\n",
      " \n"
     ]
    }
   ],
   "source": [
    "# Initialize the board\n",
    "board = EMPTY * 9\n",
    "print_board(board)"
   ]
  },
  {
   "cell_type": "code",
   "execution_count": 4,
   "metadata": {},
   "outputs": [],
   "source": [
    "# Define all possible winning combinations\n",
    "win_cases = [\n",
    "    [0, 1, 2],\n",
    "    [3, 4, 5],\n",
    "    [6, 7, 8],\n",
    "    [0, 3, 6],\n",
    "    [1, 4, 7],\n",
    "    [2, 5, 8],\n",
    "    [0, 4, 8],\n",
    "    [2, 4, 6]\n",
    "]"
   ]
  },
  {
   "cell_type": "markdown",
   "metadata": {},
   "source": [
    "## Game Moves"
   ]
  },
  {
   "cell_type": "code",
   "execution_count": 5,
   "metadata": {},
   "outputs": [],
   "source": [
    "# Human makes move to certain cell of choice [row, column]\n",
    "def human_move(board, row, column):\n",
    "    # get the index of the cell the user selected: 2D -> 1D \n",
    "    index = 3 * (row - 1) + (column - 1)\n",
    "    #  if this cell is empty, make the user move, otherwise do nothing\n",
    "    if board[index] == EMPTY:\n",
    "        # place HUMAN sign on board[index]\n",
    "        return board[:index] + HUMAN + board[index+1:]\n",
    "    return board"
   ]
  },
  {
   "cell_type": "code",
   "execution_count": 259,
   "metadata": {},
   "outputs": [],
   "source": [
    "# AI makes a random move from all available moves\n",
    "\n",
    "def ai_move(board, empty_cell_count):\n",
    "    bestScore = -10\n",
    "    for move in all_possible_moves(board, AI):\n",
    "        score =  minimax(move, empty_cell_count, False ) \n",
    "        print('score: ', score, 'move: ', move[:3] + '|' + move[3:6] + '|' + move[6:])\n",
    "        if score > bestScore:\n",
    "            bestScore = score \n",
    "            bestMove = move\n",
    "    return bestMove   \n",
    "                \n",
    "            "
   ]
  },
  {
   "cell_type": "markdown",
   "metadata": {},
   "source": [
    "##  Supporting Functions"
   ]
  },
  {
   "cell_type": "code",
   "execution_count": 8,
   "metadata": {},
   "outputs": [],
   "source": [
    "def minimax(board, depth, maximizingPlayer):      #maxPlayer = boolean\n",
    "    player = AI if maximizingPlayer else HUMAN\n",
    "        \n",
    "    if depth == 0 or game_has_ended(board): #reached leaf\n",
    "        return score(board, depth)\n",
    "                          \n",
    "    if maximizingPlayer:\n",
    "        max_value = -10\n",
    "        for temp_board in all_possible_moves(board, player):\n",
    "            temp_value = minimax(temp_board, depth-1, False)\n",
    "            max_value = max(temp_value, max_value) \n",
    "        return max_value\n",
    "              \n",
    "    else:\n",
    "        min_value = 10\n",
    "        for temp_board in all_possible_moves(board, player):\n",
    "            temp_value = minimax(temp_board, depth-1, True)\n",
    "            min_value = min(temp_value, min_value) \n",
    "        return min_value"
   ]
  },
  {
   "cell_type": "code",
   "execution_count": 9,
   "metadata": {},
   "outputs": [],
   "source": [
    "def score(board, depth):\n",
    "    winner = game_won_by(board)\n",
    "    if winner == AI:\n",
    "        return 1*depth\n",
    "    elif winner == HUMAN:\n",
    "        return -1*depth\n",
    "    else:\n",
    "        return 0\n",
    "\n",
    "  "
   ]
  },
  {
   "cell_type": "code",
   "execution_count": 10,
   "metadata": {},
   "outputs": [],
   "source": [
    "def game_has_ended(board):\n",
    "    winner = game_won_by(board)\n",
    "    if game_won_by(board) != EMPTY or board.count(board) == 0:\n",
    "        return True\n",
    "    return False"
   ]
  },
  {
   "cell_type": "code",
   "execution_count": 11,
   "metadata": {},
   "outputs": [],
   "source": [
    "# Get all possible moves on the board from this position in a list 'move_list'\n",
    "def all_possible_moves(board, sign):\n",
    "    # start with empty list\n",
    "    move_list = []\n",
    "    # travers the board, i-index, v-sign\n",
    "    for i, v in enumerate(board):\n",
    "        if v == EMPTY:\n",
    "            move_list.append(board[:i] + sign + board[i+1:])\n",
    "    return move_list"
   ]
  },
  {
   "cell_type": "code",
   "execution_count": 12,
   "metadata": {},
   "outputs": [],
   "source": [
    "# A winning game is if any of win-cases appears\n",
    "def game_won_by(board):\n",
    "    for i in win_cases:\n",
    "        if board[i[0]] == board[i[1]] == board[i[2]] != EMPTY:\n",
    "            # win-case, return the sign, which wins\n",
    "            return board[i[0]]\n",
    "    # Returns eithert the winner's sign or empty sign    \n",
    "    return EMPTY"
   ]
  },
  {
   "cell_type": "markdown",
   "metadata": {},
   "source": [
    "## Play The Game"
   ]
  },
  {
   "cell_type": "code",
   "execution_count": 13,
   "metadata": {},
   "outputs": [],
   "source": [
    "# Play the game\n",
    "def game():\n",
    "    # start from empty board\n",
    "    board = EMPTY * 9\n",
    "    empty_cell_count = 9\n",
    "    end_flag = False\n",
    "    print_board(board)\n",
    "    \n",
    "    while empty_cell_count > 0 and not end_flag:\n",
    "        # Player AI (always has odd number of options)\n",
    "        if empty_cell_count == 9:\n",
    "                board = board[:0] + AI + board[0+1:]\n",
    "        elif empty_cell_count % 2 == 1:\n",
    "            board = ai_move(board, empty_cell_count)\n",
    "        else:\n",
    "            # Player HUMAN (always has even number of options)     \n",
    "            # ask the player to chose a move\n",
    "            row = int(input('Enter row: '))\n",
    "            col = int(input('Enter column: '))\n",
    "            board = human_move(board, row, col)                   \n",
    "        \n",
    "        # Print current board status\n",
    "        print_board(board)\n",
    "            \n",
    "        # Count how many empty cells left\n",
    "        empty_cell_count = board.count(EMPTY)      \n",
    "        # empty_cell_count = sum(1 for cell in board if cell == EMPTY)\n",
    "        \n",
    "        # Check if someone wins already, update the flag\n",
    "        end_flag = game_won_by(board) != EMPTY\n",
    "    \n",
    "    if game_won_by(board) == EMPTY:\n",
    "        print('Game ended. DRAW')\n",
    "    print('Game ended. Winner: ', game_won_by(board))"
   ]
  },
  {
   "cell_type": "code",
   "execution_count": 14,
   "metadata": {},
   "outputs": [
    {
     "ename": "NameError",
     "evalue": "name 'EMPTY' is not defined",
     "output_type": "error",
     "traceback": [
      "\u001b[0;31m---------------------------------------------------------------------------\u001b[0m",
      "\u001b[0;31mNameError\u001b[0m                                 Traceback (most recent call last)",
      "\u001b[0;32m<ipython-input-14-49b084be489b>\u001b[0m in \u001b[0;36m<module>\u001b[0;34m\u001b[0m\n\u001b[1;32m      1\u001b[0m \u001b[0;31m## Run the game\u001b[0m\u001b[0;34m\u001b[0m\u001b[0;34m\u001b[0m\u001b[0;34m\u001b[0m\u001b[0m\n\u001b[1;32m      2\u001b[0m \u001b[0;34m\u001b[0m\u001b[0m\n\u001b[0;32m----> 3\u001b[0;31m \u001b[0mgame\u001b[0m\u001b[0;34m(\u001b[0m\u001b[0;34m)\u001b[0m\u001b[0;34m\u001b[0m\u001b[0;34m\u001b[0m\u001b[0m\n\u001b[0m",
      "\u001b[0;32m<ipython-input-13-ba814d2f6ec0>\u001b[0m in \u001b[0;36mgame\u001b[0;34m()\u001b[0m\n\u001b[1;32m      2\u001b[0m \u001b[0;32mdef\u001b[0m \u001b[0mgame\u001b[0m\u001b[0;34m(\u001b[0m\u001b[0;34m)\u001b[0m\u001b[0;34m:\u001b[0m\u001b[0;34m\u001b[0m\u001b[0;34m\u001b[0m\u001b[0m\n\u001b[1;32m      3\u001b[0m     \u001b[0;31m# start from empty board\u001b[0m\u001b[0;34m\u001b[0m\u001b[0;34m\u001b[0m\u001b[0;34m\u001b[0m\u001b[0m\n\u001b[0;32m----> 4\u001b[0;31m     \u001b[0mboard\u001b[0m \u001b[0;34m=\u001b[0m \u001b[0mEMPTY\u001b[0m \u001b[0;34m*\u001b[0m \u001b[0;36m9\u001b[0m\u001b[0;34m\u001b[0m\u001b[0;34m\u001b[0m\u001b[0m\n\u001b[0m\u001b[1;32m      5\u001b[0m     \u001b[0mempty_cell_count\u001b[0m \u001b[0;34m=\u001b[0m \u001b[0;36m9\u001b[0m\u001b[0;34m\u001b[0m\u001b[0;34m\u001b[0m\u001b[0m\n\u001b[1;32m      6\u001b[0m     \u001b[0mend_flag\u001b[0m \u001b[0;34m=\u001b[0m \u001b[0;32mFalse\u001b[0m\u001b[0;34m\u001b[0m\u001b[0;34m\u001b[0m\u001b[0m\n",
      "\u001b[0;31mNameError\u001b[0m: name 'EMPTY' is not defined"
     ]
    }
   ],
   "source": [
    "## Run the game\n",
    "\n",
    "game()\n"
   ]
  },
  {
   "cell_type": "markdown",
   "metadata": {},
   "source": [
    "\n",
    "# Game Analysis\n",
    "\n",
    "We want to know how many are the possible combinations of moves and how many times each player can win the game."
   ]
  },
  {
   "cell_type": "code",
   "execution_count": 271,
   "metadata": {},
   "outputs": [],
   "source": [
    "# all moves for all possible states for this player\n",
    "def all_moves(board_list, sign):\n",
    "    move_list = []\n",
    "    for board in board_list:\n",
    "        move_list.extend(all_possible_moves(board, sign))\n",
    "    return move_list"
   ]
  },
  {
   "cell_type": "code",
   "execution_count": 272,
   "metadata": {},
   "outputs": [],
   "source": [
    "# All wins of each player separated in two new lists, draws remains in the old list\n",
    "def player_wins(move_list, ai_wins, human_wins):\n",
    "    for board in move_list:\n",
    "        won_by = game_won_by(board)\n",
    "        if won_by == AI:\n",
    "            ai_wins.append(board)\n",
    "            move_list.remove(board)\n",
    "        elif won_by == HUMAN:\n",
    "            human_wins.append(board)\n",
    "            move_list.remove(board)"
   ]
  },
  {
   "cell_type": "code",
   "execution_count": 273,
   "metadata": {},
   "outputs": [],
   "source": [
    "# At each step count the available moves\n",
    "def count_possibilities():\n",
    "    board = EMPTY * 9\n",
    "    move_list = [board]\n",
    "    ai_wins = []\n",
    "    human_wins = []\n",
    "    for i in range(9):\n",
    "        print('Step ' + str(i) + ': possible moves = ' + str(len(move_list)))\n",
    "        sign = AI if i % 2 == 0 else HUMAN\n",
    "        move_list = all_moves(move_list, sign)\n",
    "        player_wins(move_list, ai_wins, human_wins)\n",
    "    print('First player wins: ' + str(len(ai_wins)))\n",
    "    print('Second player wins: ' + str(len(human_wins)))\n",
    "    print('Draw', str(len(move_list)))\n",
    "    print('Total', str(len(ai_wins) + len(human_wins) + len(move_list)))"
   ]
  },
  {
   "cell_type": "code",
   "execution_count": 274,
   "metadata": {},
   "outputs": [
    {
     "name": "stdout",
     "output_type": "stream",
     "text": [
      "Step 0: possible moves = 1\n",
      "Step 1: possible moves = 9\n",
      "Step 2: possible moves = 72\n",
      "Step 3: possible moves = 504\n",
      "Step 4: possible moves = 3024\n",
      "Step 5: possible moves = 13680\n"
     ]
    },
    {
     "ename": "KeyboardInterrupt",
     "evalue": "",
     "output_type": "error",
     "traceback": [
      "\u001b[0;31m---------------------------------------------------------------------------\u001b[0m",
      "\u001b[0;31mKeyboardInterrupt\u001b[0m                         Traceback (most recent call last)",
      "\u001b[0;32m<ipython-input-274-a0455a8fd8e6>\u001b[0m in \u001b[0;36m<module>\u001b[0;34m\u001b[0m\n\u001b[0;32m----> 1\u001b[0;31m \u001b[0mcount_possibilities\u001b[0m\u001b[0;34m(\u001b[0m\u001b[0;34m)\u001b[0m\u001b[0;34m\u001b[0m\u001b[0;34m\u001b[0m\u001b[0m\n\u001b[0m",
      "\u001b[0;32m<ipython-input-273-7462e7bf3a2c>\u001b[0m in \u001b[0;36mcount_possibilities\u001b[0;34m()\u001b[0m\n\u001b[1;32m      9\u001b[0m         \u001b[0msign\u001b[0m \u001b[0;34m=\u001b[0m \u001b[0mAI\u001b[0m \u001b[0;32mif\u001b[0m \u001b[0mi\u001b[0m \u001b[0;34m%\u001b[0m \u001b[0;36m2\u001b[0m \u001b[0;34m==\u001b[0m \u001b[0;36m0\u001b[0m \u001b[0;32melse\u001b[0m \u001b[0mHUMAN\u001b[0m\u001b[0;34m\u001b[0m\u001b[0;34m\u001b[0m\u001b[0m\n\u001b[1;32m     10\u001b[0m         \u001b[0mmove_list\u001b[0m \u001b[0;34m=\u001b[0m \u001b[0mall_moves\u001b[0m\u001b[0;34m(\u001b[0m\u001b[0mmove_list\u001b[0m\u001b[0;34m,\u001b[0m \u001b[0msign\u001b[0m\u001b[0;34m)\u001b[0m\u001b[0;34m\u001b[0m\u001b[0;34m\u001b[0m\u001b[0m\n\u001b[0;32m---> 11\u001b[0;31m         \u001b[0mplayer_wins\u001b[0m\u001b[0;34m(\u001b[0m\u001b[0mmove_list\u001b[0m\u001b[0;34m,\u001b[0m \u001b[0mai_wins\u001b[0m\u001b[0;34m,\u001b[0m \u001b[0mhuman_wins\u001b[0m\u001b[0;34m)\u001b[0m\u001b[0;34m\u001b[0m\u001b[0;34m\u001b[0m\u001b[0m\n\u001b[0m\u001b[1;32m     12\u001b[0m     \u001b[0mprint\u001b[0m\u001b[0;34m(\u001b[0m\u001b[0;34m'First player wins: '\u001b[0m \u001b[0;34m+\u001b[0m \u001b[0mstr\u001b[0m\u001b[0;34m(\u001b[0m\u001b[0mlen\u001b[0m\u001b[0;34m(\u001b[0m\u001b[0mai_wins\u001b[0m\u001b[0;34m)\u001b[0m\u001b[0;34m)\u001b[0m\u001b[0;34m)\u001b[0m\u001b[0;34m\u001b[0m\u001b[0;34m\u001b[0m\u001b[0m\n\u001b[1;32m     13\u001b[0m     \u001b[0mprint\u001b[0m\u001b[0;34m(\u001b[0m\u001b[0;34m'Second player wins: '\u001b[0m \u001b[0;34m+\u001b[0m \u001b[0mstr\u001b[0m\u001b[0;34m(\u001b[0m\u001b[0mlen\u001b[0m\u001b[0;34m(\u001b[0m\u001b[0mhuman_wins\u001b[0m\u001b[0;34m)\u001b[0m\u001b[0;34m)\u001b[0m\u001b[0;34m)\u001b[0m\u001b[0;34m\u001b[0m\u001b[0;34m\u001b[0m\u001b[0m\n",
      "\u001b[0;32m<ipython-input-272-b514c44a7982>\u001b[0m in \u001b[0;36mplayer_wins\u001b[0;34m(move_list, ai_wins, human_wins)\u001b[0m\n\u001b[1;32m      8\u001b[0m         \u001b[0;32melif\u001b[0m \u001b[0mwon_by\u001b[0m \u001b[0;34m==\u001b[0m \u001b[0mHUMAN\u001b[0m\u001b[0;34m:\u001b[0m\u001b[0;34m\u001b[0m\u001b[0;34m\u001b[0m\u001b[0m\n\u001b[1;32m      9\u001b[0m             \u001b[0mhuman_wins\u001b[0m\u001b[0;34m.\u001b[0m\u001b[0mappend\u001b[0m\u001b[0;34m(\u001b[0m\u001b[0mboard\u001b[0m\u001b[0;34m)\u001b[0m\u001b[0;34m\u001b[0m\u001b[0;34m\u001b[0m\u001b[0m\n\u001b[0;32m---> 10\u001b[0;31m             \u001b[0mmove_list\u001b[0m\u001b[0;34m.\u001b[0m\u001b[0mremove\u001b[0m\u001b[0;34m(\u001b[0m\u001b[0mboard\u001b[0m\u001b[0;34m)\u001b[0m\u001b[0;34m\u001b[0m\u001b[0;34m\u001b[0m\u001b[0m\n\u001b[0m",
      "\u001b[0;31mKeyboardInterrupt\u001b[0m: "
     ]
    }
   ],
   "source": [
    "count_possibilities()"
   ]
  },
  {
   "cell_type": "code",
   "execution_count": null,
   "metadata": {},
   "outputs": [],
   "source": []
  },
  {
   "cell_type": "code",
   "execution_count": null,
   "metadata": {},
   "outputs": [],
   "source": []
  }
 ],
 "metadata": {
  "kernelspec": {
   "display_name": "Python 3",
   "language": "python",
   "name": "python3"
  },
  "language_info": {
   "codemirror_mode": {
    "name": "ipython",
    "version": 3
   },
   "file_extension": ".py",
   "mimetype": "text/x-python",
   "name": "python",
   "nbconvert_exporter": "python",
   "pygments_lexer": "ipython3",
   "version": "3.8.5"
  }
 },
 "nbformat": 4,
 "nbformat_minor": 2
}
