{
 "cells": [
  {
   "cell_type": "markdown",
   "id": "welcome-parking",
   "metadata": {},
   "source": [
    "# Task 1"
   ]
  },
  {
   "cell_type": "markdown",
   "id": "unable-windows",
   "metadata": {},
   "source": [
    "\n",
    "Given the two following matrices: \n",
    "\n",
    "$$\n",
    "A = \\begin{pmatrix}\n",
    "3 & 1\\\\ \n",
    "2 & 6\n",
    "\\end{pmatrix}\n",
    "B = \\begin{pmatrix}\n",
    "-1 & 4\\\\ \n",
    "3 & 8\n",
    "\\end{pmatrix}\n",
    "$$ \n"
   ]
  },
  {
   "cell_type": "code",
   "execution_count": 2,
   "id": "suspected-boston",
   "metadata": {},
   "outputs": [],
   "source": [
    "import numpy as np\n",
    "from numpy.linalg import inv\n",
    "\n",
    "# Creating matrices\n",
    "A = np.array([[ 3, 1 ],[ 2, 6]])\n",
    "B = np.array([[ -1, 4 ],[ 3, 8]])\n"
   ]
  },
  {
   "cell_type": "markdown",
   "id": "banner-lobby",
   "metadata": {},
   "source": [
    "#### **(a)** $Find A^{T}$\n"
   ]
  },
  {
   "cell_type": "code",
   "execution_count": 11,
   "id": "brilliant-edmonton",
   "metadata": {},
   "outputs": [
    {
     "name": "stdout",
     "output_type": "stream",
     "text": [
      "[[3 2]\n",
      " [1 6]]\n"
     ]
    }
   ],
   "source": [
    "A_T = A.T\n",
    "print(A_T)"
   ]
  },
  {
   "cell_type": "markdown",
   "id": "first-wallpaper",
   "metadata": {},
   "source": [
    "#### **(b)** $Find B^{T}$"
   ]
  },
  {
   "cell_type": "code",
   "execution_count": 12,
   "id": "rubber-institution",
   "metadata": {
    "scrolled": true
   },
   "outputs": [
    {
     "name": "stdout",
     "output_type": "stream",
     "text": [
      "[[-1  3]\n",
      " [ 4  8]]\n"
     ]
    }
   ],
   "source": [
    "B_T = B.T\n",
    "print(B_T)"
   ]
  },
  {
   "cell_type": "markdown",
   "id": "veterinary-puppy",
   "metadata": {},
   "source": [
    "\n",
    "#### **(c)** Find AB (matrix multiplication). Compare with simple multiplication\n",
    "(using * instead of @ in Python). Can you see what is the difference?\n"
   ]
  },
  {
   "cell_type": "code",
   "execution_count": 5,
   "id": "steady-poison",
   "metadata": {},
   "outputs": [
    {
     "name": "stdout",
     "output_type": "stream",
     "text": [
      "[[-3  4]\n",
      " [ 6 48]]\n"
     ]
    }
   ],
   "source": [
    "print(A*B)"
   ]
  },
  {
   "cell_type": "code",
   "execution_count": 6,
   "id": "instrumental-kingston",
   "metadata": {},
   "outputs": [
    {
     "name": "stdout",
     "output_type": "stream",
     "text": [
      "[[ 0 20]\n",
      " [16 56]]\n"
     ]
    }
   ],
   "source": [
    "AB = A@B\n",
    "print(AB)"
   ]
  },
  {
   "cell_type": "markdown",
   "id": "improved-sunset",
   "metadata": {},
   "source": [
    "#### **(d)** $Find AB^{T}$\n"
   ]
  },
  {
   "cell_type": "code",
   "execution_count": 10,
   "id": "banned-carolina",
   "metadata": {},
   "outputs": [
    {
     "name": "stdout",
     "output_type": "stream",
     "text": [
      "[[ 0 16]\n",
      " [20 56]]\n"
     ]
    }
   ],
   "source": [
    "AB_T = AB.T\n",
    "print(AB_T)"
   ]
  },
  {
   "cell_type": "markdown",
   "id": "normal-desire",
   "metadata": {},
   "source": [
    "#### **(e)** $Compare AB^{T} and A^{T}B^{T}$\n"
   ]
  },
  {
   "cell_type": "code",
   "execution_count": 14,
   "id": "processed-probe",
   "metadata": {},
   "outputs": [
    {
     "name": "stdout",
     "output_type": "stream",
     "text": [
      "[[ 0 16]\n",
      " [20 56]]\n"
     ]
    }
   ],
   "source": [
    "BTAT = B_T@A_T\n",
    "print(BTAT)"
   ]
  },
  {
   "cell_type": "markdown",
   "id": "proper-milton",
   "metadata": {},
   "source": [
    "#### **(f)** $Find (A^{T})^{T}$\n"
   ]
  },
  {
   "cell_type": "code",
   "execution_count": 15,
   "id": "alleged-kelly",
   "metadata": {},
   "outputs": [
    {
     "name": "stdout",
     "output_type": "stream",
     "text": [
      "[[3 1]\n",
      " [2 6]]\n"
     ]
    }
   ],
   "source": [
    "AT_T = A_T.T\n",
    "print(AT_T)"
   ]
  },
  {
   "cell_type": "markdown",
   "id": "disturbed-observer",
   "metadata": {},
   "source": [
    "#### **(g)** $Find AA^{T}$"
   ]
  },
  {
   "cell_type": "code",
   "execution_count": 19,
   "id": "immune-prompt",
   "metadata": {},
   "outputs": [
    {
     "name": "stdout",
     "output_type": "stream",
     "text": [
      "[[10 12]\n",
      " [12 40]]\n"
     ]
    }
   ],
   "source": [
    "AA_T = A@A.T\n",
    "print(AA_T)"
   ]
  },
  {
   "cell_type": "code",
   "execution_count": null,
   "id": "hungarian-hawaiian",
   "metadata": {},
   "outputs": [],
   "source": []
  },
  {
   "cell_type": "markdown",
   "id": "involved-meditation",
   "metadata": {},
   "source": [
    "# Task 2"
   ]
  },
  {
   "cell_type": "markdown",
   "id": "worldwide-hardwood",
   "metadata": {},
   "source": [
    "\n",
    "Given \n",
    "\n",
    "$$\n",
    "A = \\begin{pmatrix}\n",
    "2 & 1\\\\ \n",
    "3 & 2\n",
    "\\end{pmatrix}\n",
    "B = \\begin{pmatrix}\n",
    "1 & 2\\\\ \n",
    "3 & 4\n",
    "\\end{pmatrix}\n",
    "$$ \n"
   ]
  },
  {
   "cell_type": "markdown",
   "id": "motivated-independence",
   "metadata": {},
   "source": [
    "#### **(a)** Find $AB$\n"
   ]
  },
  {
   "cell_type": "code",
   "execution_count": 22,
   "id": "urban-microphone",
   "metadata": {},
   "outputs": [],
   "source": [
    "A = np.array([[ 2, 1 ],[ 3, 2]])\n",
    "B = np.array([[ 1, 2 ],[ 3, 4]])"
   ]
  },
  {
   "cell_type": "code",
   "execution_count": 24,
   "id": "secret-edgar",
   "metadata": {},
   "outputs": [
    {
     "name": "stdout",
     "output_type": "stream",
     "text": [
      "[[ 5  8]\n",
      " [ 9 14]]\n"
     ]
    }
   ],
   "source": [
    "AB = A@B\n",
    "print(AB)"
   ]
  },
  {
   "cell_type": "markdown",
   "id": "abstract-philadelphia",
   "metadata": {},
   "source": [
    "#### **(b)** Find $BA$\n"
   ]
  },
  {
   "cell_type": "code",
   "execution_count": 25,
   "id": "integrated-deposit",
   "metadata": {},
   "outputs": [
    {
     "name": "stdout",
     "output_type": "stream",
     "text": [
      "[[ 8  5]\n",
      " [18 11]]\n"
     ]
    }
   ],
   "source": [
    "BA = B@A\n",
    "print(BA)"
   ]
  },
  {
   "cell_type": "markdown",
   "id": "utility-indonesian",
   "metadata": {},
   "source": [
    " "
   ]
  },
  {
   "cell_type": "markdown",
   "id": "permanent-affiliate",
   "metadata": {},
   "source": [
    "# Task 3\n"
   ]
  },
  {
   "cell_type": "markdown",
   "id": "magnetic-orbit",
   "metadata": {},
   "source": [
    "#### **(a)** $Find A^{-1}$\n"
   ]
  },
  {
   "cell_type": "code",
   "execution_count": 28,
   "id": "raised-issue",
   "metadata": {},
   "outputs": [
    {
     "name": "stdout",
     "output_type": "stream",
     "text": [
      "[[ 2. -1.]\n",
      " [-3.  2.]]\n"
     ]
    }
   ],
   "source": [
    "# Inverse:\n",
    "print(inv(A))"
   ]
  },
  {
   "cell_type": "markdown",
   "id": "surrounded-attraction",
   "metadata": {},
   "source": [
    "#### **(b)** $Find B^{-1}$\n"
   ]
  },
  {
   "cell_type": "code",
   "execution_count": 30,
   "id": "mineral-island",
   "metadata": {},
   "outputs": [
    {
     "name": "stdout",
     "output_type": "stream",
     "text": [
      "[[-2.   1. ]\n",
      " [ 1.5 -0.5]]\n"
     ]
    }
   ],
   "source": [
    "# Inverse:\n",
    "print(inv(B))"
   ]
  },
  {
   "cell_type": "markdown",
   "id": "soviet-isaac",
   "metadata": {},
   "source": [
    "#### **(c)** $Find AA^{-1}$\n"
   ]
  },
  {
   "cell_type": "code",
   "execution_count": 36,
   "id": "altered-maine",
   "metadata": {},
   "outputs": [
    {
     "name": "stdout",
     "output_type": "stream",
     "text": [
      "[[1. 0.]\n",
      " [0. 1.]]\n"
     ]
    }
   ],
   "source": [
    "print(A@inv(A))"
   ]
  },
  {
   "cell_type": "markdown",
   "id": "loving-behalf",
   "metadata": {},
   "source": [
    "#### **(d)** $Find A^{-1}A$\n"
   ]
  },
  {
   "cell_type": "code",
   "execution_count": 35,
   "id": "cordless-joseph",
   "metadata": {},
   "outputs": [
    {
     "name": "stdout",
     "output_type": "stream",
     "text": [
      "[[1. 0.]\n",
      " [0. 1.]]\n"
     ]
    }
   ],
   "source": [
    "print(inv(A)@A)"
   ]
  },
  {
   "cell_type": "markdown",
   "id": "found-offense",
   "metadata": {},
   "source": [
    "#### **(e)** $Find BB^{-1}$"
   ]
  },
  {
   "cell_type": "code",
   "execution_count": 44,
   "id": "presidential-state",
   "metadata": {},
   "outputs": [
    {
     "name": "stdout",
     "output_type": "stream",
     "text": [
      "[[1. 0.]\n",
      " [0. 1.]]\n"
     ]
    }
   ],
   "source": [
    "BBinv = B@inv(B)\n",
    "print(BBinv.round())"
   ]
  },
  {
   "cell_type": "markdown",
   "id": "enclosed-saudi",
   "metadata": {},
   "source": [
    "#### **(f)** $Find B^{-1}B$\n"
   ]
  },
  {
   "cell_type": "code",
   "execution_count": 47,
   "id": "diverse-conspiracy",
   "metadata": {},
   "outputs": [
    {
     "name": "stdout",
     "output_type": "stream",
     "text": [
      "[[1. 0.]\n",
      " [0. 1.]]\n"
     ]
    }
   ],
   "source": [
    "BinvB = inv(B)@B\n",
    "print(BinvB.round())"
   ]
  },
  {
   "cell_type": "markdown",
   "id": "marked-competition",
   "metadata": {},
   "source": [
    "# Task 4"
   ]
  },
  {
   "cell_type": "markdown",
   "id": "danish-probe",
   "metadata": {},
   "source": [
    "Given \n",
    "\n",
    "$$\n",
    "A = \\begin{pmatrix}\n",
    "2 & 4\\\\ \n",
    "1 & 2\n",
    "\\end{pmatrix}\n",
    "$$"
   ]
  },
  {
   "cell_type": "markdown",
   "id": "hindu-shower",
   "metadata": {},
   "source": [
    "#### **(a)**  $Find A^{-1}$"
   ]
  },
  {
   "cell_type": "code",
   "execution_count": 49,
   "id": "affiliated-texture",
   "metadata": {},
   "outputs": [],
   "source": [
    "# Creating matrix\n",
    "A = np.array([[ 2, 4 ],[ 1, 2]])"
   ]
  },
  {
   "cell_type": "code",
   "execution_count": 50,
   "id": "compound-insert",
   "metadata": {},
   "outputs": [
    {
     "ename": "LinAlgError",
     "evalue": "Singular matrix",
     "output_type": "error",
     "traceback": [
      "\u001b[0;31m---------------------------------------------------------------------------\u001b[0m",
      "\u001b[0;31mLinAlgError\u001b[0m                               Traceback (most recent call last)",
      "\u001b[0;32m<ipython-input-50-ee23477c1e96>\u001b[0m in \u001b[0;36m<module>\u001b[0;34m\u001b[0m\n\u001b[0;32m----> 1\u001b[0;31m \u001b[0minv\u001b[0m\u001b[0;34m(\u001b[0m\u001b[0mA\u001b[0m\u001b[0;34m)\u001b[0m\u001b[0;34m\u001b[0m\u001b[0;34m\u001b[0m\u001b[0m\n\u001b[0m",
      "\u001b[0;32m<__array_function__ internals>\u001b[0m in \u001b[0;36minv\u001b[0;34m(*args, **kwargs)\u001b[0m\n",
      "\u001b[0;32m~/opt/anaconda3/lib/python3.8/site-packages/numpy/linalg/linalg.py\u001b[0m in \u001b[0;36minv\u001b[0;34m(a)\u001b[0m\n\u001b[1;32m    544\u001b[0m     \u001b[0msignature\u001b[0m \u001b[0;34m=\u001b[0m \u001b[0;34m'D->D'\u001b[0m \u001b[0;32mif\u001b[0m \u001b[0misComplexType\u001b[0m\u001b[0;34m(\u001b[0m\u001b[0mt\u001b[0m\u001b[0;34m)\u001b[0m \u001b[0;32melse\u001b[0m \u001b[0;34m'd->d'\u001b[0m\u001b[0;34m\u001b[0m\u001b[0;34m\u001b[0m\u001b[0m\n\u001b[1;32m    545\u001b[0m     \u001b[0mextobj\u001b[0m \u001b[0;34m=\u001b[0m \u001b[0mget_linalg_error_extobj\u001b[0m\u001b[0;34m(\u001b[0m\u001b[0m_raise_linalgerror_singular\u001b[0m\u001b[0;34m)\u001b[0m\u001b[0;34m\u001b[0m\u001b[0;34m\u001b[0m\u001b[0m\n\u001b[0;32m--> 546\u001b[0;31m     \u001b[0mainv\u001b[0m \u001b[0;34m=\u001b[0m \u001b[0m_umath_linalg\u001b[0m\u001b[0;34m.\u001b[0m\u001b[0minv\u001b[0m\u001b[0;34m(\u001b[0m\u001b[0ma\u001b[0m\u001b[0;34m,\u001b[0m \u001b[0msignature\u001b[0m\u001b[0;34m=\u001b[0m\u001b[0msignature\u001b[0m\u001b[0;34m,\u001b[0m \u001b[0mextobj\u001b[0m\u001b[0;34m=\u001b[0m\u001b[0mextobj\u001b[0m\u001b[0;34m)\u001b[0m\u001b[0;34m\u001b[0m\u001b[0;34m\u001b[0m\u001b[0m\n\u001b[0m\u001b[1;32m    547\u001b[0m     \u001b[0;32mreturn\u001b[0m \u001b[0mwrap\u001b[0m\u001b[0;34m(\u001b[0m\u001b[0mainv\u001b[0m\u001b[0;34m.\u001b[0m\u001b[0mastype\u001b[0m\u001b[0;34m(\u001b[0m\u001b[0mresult_t\u001b[0m\u001b[0;34m,\u001b[0m \u001b[0mcopy\u001b[0m\u001b[0;34m=\u001b[0m\u001b[0;32mFalse\u001b[0m\u001b[0;34m)\u001b[0m\u001b[0;34m)\u001b[0m\u001b[0;34m\u001b[0m\u001b[0;34m\u001b[0m\u001b[0m\n\u001b[1;32m    548\u001b[0m \u001b[0;34m\u001b[0m\u001b[0m\n",
      "\u001b[0;32m~/opt/anaconda3/lib/python3.8/site-packages/numpy/linalg/linalg.py\u001b[0m in \u001b[0;36m_raise_linalgerror_singular\u001b[0;34m(err, flag)\u001b[0m\n\u001b[1;32m     86\u001b[0m \u001b[0;34m\u001b[0m\u001b[0m\n\u001b[1;32m     87\u001b[0m \u001b[0;32mdef\u001b[0m \u001b[0m_raise_linalgerror_singular\u001b[0m\u001b[0;34m(\u001b[0m\u001b[0merr\u001b[0m\u001b[0;34m,\u001b[0m \u001b[0mflag\u001b[0m\u001b[0;34m)\u001b[0m\u001b[0;34m:\u001b[0m\u001b[0;34m\u001b[0m\u001b[0;34m\u001b[0m\u001b[0m\n\u001b[0;32m---> 88\u001b[0;31m     \u001b[0;32mraise\u001b[0m \u001b[0mLinAlgError\u001b[0m\u001b[0;34m(\u001b[0m\u001b[0;34m\"Singular matrix\"\u001b[0m\u001b[0;34m)\u001b[0m\u001b[0;34m\u001b[0m\u001b[0;34m\u001b[0m\u001b[0m\n\u001b[0m\u001b[1;32m     89\u001b[0m \u001b[0;34m\u001b[0m\u001b[0m\n\u001b[1;32m     90\u001b[0m \u001b[0;32mdef\u001b[0m \u001b[0m_raise_linalgerror_nonposdef\u001b[0m\u001b[0;34m(\u001b[0m\u001b[0merr\u001b[0m\u001b[0;34m,\u001b[0m \u001b[0mflag\u001b[0m\u001b[0;34m)\u001b[0m\u001b[0;34m:\u001b[0m\u001b[0;34m\u001b[0m\u001b[0;34m\u001b[0m\u001b[0m\n",
      "\u001b[0;31mLinAlgError\u001b[0m: Singular matrix"
     ]
    }
   ],
   "source": [
    "inv(A)"
   ]
  },
  {
   "cell_type": "markdown",
   "id": "thousand-tractor",
   "metadata": {},
   "source": [
    "# Task 5"
   ]
  },
  {
   "cell_type": "code",
   "execution_count": 133,
   "id": "defined-alpha",
   "metadata": {},
   "outputs": [],
   "source": [
    "from matplotlib import pyplot as plt\n",
    "from numpy.linalg import inv\n"
   ]
  },
  {
   "cell_type": "code",
   "execution_count": 134,
   "id": "compound-jefferson",
   "metadata": {},
   "outputs": [
    {
     "data": {
      "text/plain": [
       "<Figure size 432x288 with 0 Axes>"
      ]
     },
     "metadata": {},
     "output_type": "display_data"
    },
    {
     "data": {
      "image/png": "[encoded data removed]",
      "text/plain": [
       "<Figure size 432x288 with 1 Axes>"
      ]
     },
     "metadata": {
      "needs_background": "light"
     },
     "output_type": "display_data"
    }
   ],
   "source": [
    "xs = np.array([0,0,3,3,0,1.5,3]) # List of x coordinates\n",
    "ys = np.array([1,0,0,1,1,2 ,1]) # List of y coordinates\n",
    "fig = plt.figure()\n",
    "fig, ax = plt.subplots()"
   ]
  },
  {
   "cell_type": "code",
   "execution_count": 135,
   "id": "boolean-uganda",
   "metadata": {},
   "outputs": [
    {
     "data": {
      "text/plain": [
       "(-0.05500000000000001,\n",
       " 0.05500000000000001,\n",
       " -0.05500000000000001,\n",
       " 0.05500000000000001)"
      ]
     },
     "execution_count": 135,
     "metadata": {},
     "output_type": "execute_result"
    }
   ],
   "source": [
    "xs_ys = np.array([xs,ys])\n",
    "ax.axis('equal')"
   ]
  },
  {
   "cell_type": "code",
   "execution_count": 136,
   "id": "retired-think",
   "metadata": {},
   "outputs": [
    {
     "data": {
      "text/plain": [
       "[<matplotlib.lines.Line2D at 0x7fd62c169430>]"
      ]
     },
     "execution_count": 136,
     "metadata": {},
     "output_type": "execute_result"
    }
   ],
   "source": [
    "# Plot the points\n",
    "ax.plot(*xs_ys, '-')"
   ]
  },
  {
   "cell_type": "code",
   "execution_count": 142,
   "id": "theoretical-submission",
   "metadata": {},
   "outputs": [],
   "source": [
    "# Create a rotation matrix\n",
    "#rot = np.array([[1, 0],[0, 1]]) # <-- CHANGE THIS\n",
    "rot = np.array([[0.71, -0.71],[0.71, 0.71]])"
   ]
  },
  {
   "cell_type": "code",
   "execution_count": 143,
   "id": "authorized-technical",
   "metadata": {},
   "outputs": [],
   "source": [
    "# turn the two lists (xs, ys) into a list of (x,y) tuples\n",
    "points = np.array([[x,y] for x,y in zip(xs,ys)])"
   ]
  },
  {
   "cell_type": "code",
   "execution_count": 144,
   "id": "voluntary-teaching",
   "metadata": {},
   "outputs": [],
   "source": [
    "# Make the transformation:\n",
    "points_rot = (points @ rot)"
   ]
  },
  {
   "cell_type": "code",
   "execution_count": 145,
   "id": "unique-islam",
   "metadata": {},
   "outputs": [],
   "source": [
    "# Turn it into a row of xs and a row of ys:\n",
    "xs_ys_rot = np.array([points_rot[:,0], points_rot[:,1]])"
   ]
  },
  {
   "cell_type": "code",
   "execution_count": 146,
   "id": "national-sweet",
   "metadata": {},
   "outputs": [
    {
     "data": {
      "image/png": "[encoded data removed]",
      "text/plain": [
       "<Figure size 432x288 with 1 Axes>"
      ]
     },
     "execution_count": 146,
     "metadata": {},
     "output_type": "execute_result"
    }
   ],
   "source": [
    "# Finally, plot it\n",
    "ax.plot( *xs_ys_rot, '-')\n",
    "\n",
    "fig"
   ]
  },
  {
   "cell_type": "code",
   "execution_count": null,
   "id": "tamil-insulation",
   "metadata": {},
   "outputs": [],
   "source": []
  },
  {
   "cell_type": "code",
   "execution_count": null,
   "id": "vulnerable-queensland",
   "metadata": {},
   "outputs": [],
   "source": []
  }
 ],
 "metadata": {
  "kernelspec": {
   "display_name": "Python 3",
   "language": "python",
   "name": "python3"
  },
  "language_info": {
   "codemirror_mode": {
    "name": "ipython",
    "version": 3
   },
   "file_extension": ".py",
   "mimetype": "text/x-python",
   "name": "python",
   "nbconvert_exporter": "python",
   "pygments_lexer": "ipython3",
   "version": "3.8.5"
  }
 },
 "nbformat": 4,
 "nbformat_minor": 5
}
