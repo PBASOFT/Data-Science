{
 "cells": [
  {
   "cell_type": "code",
   "execution_count": 5,
   "id": "tribal-federal",
   "metadata": {},
   "outputs": [],
   "source": [
    "import pandas as pd"
   ]
  },
  {
   "cell_type": "code",
   "execution_count": 10,
   "id": "studied-religion",
   "metadata": {},
   "outputs": [],
   "source": [
    "numbers = [14, 15, 16, 16, 17, 17, 17, 17, 17, 18, 18, 18, 18, 18, 18, 19, 19, 19, 20, 20, 20, 20, 20, 20, 21, 21, 22, 23, 24, 24, 29]\n",
    "dataframe = pd.DataFrame(numbers)"
   ]
  },
  {
   "cell_type": "code",
   "execution_count": 15,
   "id": "electoral-century",
   "metadata": {},
   "outputs": [
    {
     "data": {
      "text/plain": [
       "595"
      ]
     },
     "execution_count": 15,
     "metadata": {},
     "output_type": "execute_result"
    }
   ],
   "source": [
    "# Sum\n",
    "dataframe[0].sum()"
   ]
  },
  {
   "cell_type": "code",
   "execution_count": 16,
   "id": "breeding-quarter",
   "metadata": {},
   "outputs": [
    {
     "data": {
      "text/plain": [
       "31"
      ]
     },
     "execution_count": 16,
     "metadata": {},
     "output_type": "execute_result"
    }
   ],
   "source": [
    "# Count\n",
    "dataframe[0].count()"
   ]
  },
  {
   "cell_type": "code",
   "execution_count": 17,
   "id": "spectacular-avatar",
   "metadata": {},
   "outputs": [
    {
     "data": {
      "text/plain": [
       "19.193548387096776"
      ]
     },
     "execution_count": 17,
     "metadata": {},
     "output_type": "execute_result"
    }
   ],
   "source": [
    "# Mean\n",
    "dataframe[0].mean()"
   ]
  },
  {
   "cell_type": "code",
   "execution_count": 18,
   "id": "institutional-expense",
   "metadata": {},
   "outputs": [
    {
     "data": {
      "text/plain": [
       "19.0"
      ]
     },
     "execution_count": 18,
     "metadata": {},
     "output_type": "execute_result"
    }
   ],
   "source": [
    "# Median\n",
    "dataframe[0].median()"
   ]
  },
  {
   "cell_type": "code",
   "execution_count": 19,
   "id": "durable-indianapolis",
   "metadata": {},
   "outputs": [
    {
     "data": {
      "text/plain": [
       "0    18\n",
       "1    20\n",
       "dtype: int64"
      ]
     },
     "execution_count": 19,
     "metadata": {},
     "output_type": "execute_result"
    }
   ],
   "source": [
    "# Mode\n",
    "dataframe[0].mode()"
   ]
  },
  {
   "cell_type": "code",
   "execution_count": 25,
   "id": "selective-detection",
   "metadata": {},
   "outputs": [
    {
     "data": {
      "text/plain": [
       "8.801248699271591"
      ]
     },
     "execution_count": 25,
     "metadata": {},
     "output_type": "execute_result"
    }
   ],
   "source": [
    "# Variance\n",
    "dataframe[0].var(ddof=0)"
   ]
  },
  {
   "cell_type": "code",
   "execution_count": 27,
   "id": "crude-nightlife",
   "metadata": {},
   "outputs": [
    {
     "data": {
      "text/plain": [
       "2.96668985559185"
      ]
     },
     "execution_count": 27,
     "metadata": {},
     "output_type": "execute_result"
    }
   ],
   "source": [
    "# Stanndard Deviation\n",
    "dataframe[0].std(ddof=0)"
   ]
  },
  {
   "cell_type": "code",
   "execution_count": 36,
   "id": "filled-increase",
   "metadata": {},
   "outputs": [
    {
     "data": {
      "text/plain": [
       "<AxesSubplot:>"
      ]
     },
     "execution_count": 36,
     "metadata": {},
     "output_type": "execute_result"
    },
    {
     "data": {
      "image/png": "[encoded data removed]",
      "text/plain": [
       "<Figure size 432x288 with 1 Axes>"
      ]
     },
     "metadata": {
      "needs_background": "light"
     },
     "output_type": "display_data"
    }
   ],
   "source": [
    "# Boxplot\n",
    "dataframe.plot.box()"
   ]
  },
  {
   "cell_type": "code",
   "execution_count": 34,
   "id": "challenging-people",
   "metadata": {},
   "outputs": [
    {
     "data": {
      "text/plain": [
       "count    31.000000\n",
       "mean     19.193548\n",
       "std       3.015729\n",
       "min      14.000000\n",
       "25%      17.000000\n",
       "50%      19.000000\n",
       "75%      20.000000\n",
       "max      29.000000\n",
       "Name: 0, dtype: float64"
      ]
     },
     "execution_count": 34,
     "metadata": {},
     "output_type": "execute_result"
    }
   ],
   "source": [
    "dataframe[0].describe()"
   ]
  },
  {
   "cell_type": "code",
   "execution_count": null,
   "id": "answering-syracuse",
   "metadata": {},
   "outputs": [],
   "source": []
  },
  {
   "cell_type": "code",
   "execution_count": null,
   "id": "honest-allah",
   "metadata": {},
   "outputs": [],
   "source": []
  }
 ],
 "metadata": {
  "kernelspec": {
   "display_name": "Python 3",
   "language": "python",
   "name": "python3"
  },
  "language_info": {
   "codemirror_mode": {
    "name": "ipython",
    "version": 3
   },
   "file_extension": ".py",
   "mimetype": "text/x-python",
   "name": "python",
   "nbconvert_exporter": "python",
   "pygments_lexer": "ipython3",
   "version": "3.8.5"
  }
 },
 "nbformat": 4,
 "nbformat_minor": 5
}
