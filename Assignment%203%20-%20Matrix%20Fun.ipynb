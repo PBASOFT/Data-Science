{
 "cells": [
  {
   "cell_type": "markdown",
   "id": "preliminary-playlist",
   "metadata": {},
   "source": [
    "# Task 1"
   ]
  },
  {
   "cell_type": "markdown",
   "id": "unable-windows",
   "metadata": {},
   "source": [
    "\n",
    "Given the two following matrices: \n",
    "\n",
    "$$\n",
    "A = \\begin{pmatrix}\n",
    "3 & 1\\\\ \n",
    "2 & 6\n",
    "\\end{pmatrix}\n",
    "B = \\begin{pmatrix}\n",
    "-1 & 4\\\\ \n",
    "3 & 8\n",
    "\\end{pmatrix}\n",
    "$$ \n"
   ]
  },
  {
   "cell_type": "code",
   "execution_count": 2,
   "id": "suspected-boston",
   "metadata": {},
   "outputs": [],
   "source": [
    "import numpy as np\n",
    "from numpy.linalg import inv\n",
    "\n",
    "# Creating matrices\n",
    "A = np.array([[ 3, 1 ],[ 2, 6]])\n",
    "B = np.array([[ -1, 4 ],[ 3, 8]])\n"
   ]
  },
  {
   "cell_type": "markdown",
   "id": "banner-lobby",
   "metadata": {},
   "source": [
    "#### **(a)** $Find A^{T}$\n"
   ]
  },
  {
   "cell_type": "code",
   "execution_count": 11,
   "id": "brilliant-edmonton",
   "metadata": {},
   "outputs": [
    {
     "name": "stdout",
     "output_type": "stream",
     "text": [
      "[[3 2]\n",
      " [1 6]]\n"
     ]
    }
   ],
   "source": [
    "A_T = A.T\n",
    "print(A_T)"
   ]
  },
  {
   "cell_type": "markdown",
   "id": "first-wallpaper",
   "metadata": {},
   "source": [
    "#### **(b)** $Find B^{T}$"
   ]
  },
  {
   "cell_type": "code",
   "execution_count": 12,
   "id": "rubber-institution",
   "metadata": {
    "scrolled": true
   },
   "outputs": [
    {
     "name": "stdout",
     "output_type": "stream",
     "text": [
      "[[-1  3]\n",
      " [ 4  8]]\n"
     ]
    }
   ],
   "source": [
    "B_T = B.T\n",
    "print(B_T)"
   ]
  },
  {
   "cell_type": "markdown",
   "id": "veterinary-puppy",
   "metadata": {},
   "source": [
    "\n",
    "#### **(c)** Find AB (matrix multiplication). Compare with simple multiplication\n",
    "(using * instead of @ in Python). Can you see what is the difference?\n"
   ]
  },
  {
   "cell_type": "code",
   "execution_count": 5,
   "id": "steady-poison",
   "metadata": {},
   "outputs": [
    {
     "name": "stdout",
     "output_type": "stream",
     "text": [
      "[[-3  4]\n",
      " [ 6 48]]\n"
     ]
    }
   ],
   "source": [
    "print(A*B)"
   ]
  },
  {
   "cell_type": "code",
   "execution_count": 6,
   "id": "instrumental-kingston",
   "metadata": {},
   "outputs": [
    {
     "name": "stdout",
     "output_type": "stream",
     "text": [
      "[[ 0 20]\n",
      " [16 56]]\n"
     ]
    }
   ],
   "source": [
    "AB = A@B\n",
    "print(AB)"
   ]
  },
  {
   "cell_type": "markdown",
   "id": "improved-sunset",
   "metadata": {},
   "source": [
    "#### **(d)** $Find AB^{T}$\n"
   ]
  },
  {
   "cell_type": "code",
   "execution_count": 10,
   "id": "banned-carolina",
   "metadata": {},
   "outputs": [
    {
     "name": "stdout",
     "output_type": "stream",
     "text": [
      "[[ 0 16]\n",
      " [20 56]]\n"
     ]
    }
   ],
   "source": [
    "AB_T = AB.T\n",
    "print(AB_T)"
   ]
  },
  {
   "cell_type": "markdown",
   "id": "normal-desire",
   "metadata": {},
   "source": [
    "#### **(e)** $Compare AB^{T} and A^{T}B^{T}$\n"
   ]
  },
  {
   "cell_type": "code",
   "execution_count": 14,
   "id": "processed-probe",
   "metadata": {},
   "outputs": [
    {
     "name": "stdout",
     "output_type": "stream",
     "text": [
      "[[ 0 16]\n",
      " [20 56]]\n"
     ]
    }
   ],
   "source": [
    "BTAT = B_T@A_T\n",
    "print(BTAT)"
   ]
  },
  {
   "cell_type": "markdown",
   "id": "social-draft",
   "metadata": {},
   "source": [
    "#### **(f)** $Find (A^{T})^{T}$\n"
   ]
  },
  {
   "cell_type": "code",
   "execution_count": 15,
   "id": "immune-suspect",
   "metadata": {},
   "outputs": [
    {
     "name": "stdout",
     "output_type": "stream",
     "text": [
      "[[3 1]\n",
      " [2 6]]\n"
     ]
    }
   ],
   "source": [
    "AT_T = A_T.T\n",
    "print(AT_T)"
   ]
  },
  {
   "cell_type": "markdown",
   "id": "stone-manhattan",
   "metadata": {},
   "source": [
    "#### **(g)** $Find AA^{T}$"
   ]
  },
  {
   "cell_type": "code",
   "execution_count": 19,
   "id": "scientific-mercy",
   "metadata": {},
   "outputs": [
    {
     "name": "stdout",
     "output_type": "stream",
     "text": [
      "[[10 12]\n",
      " [12 40]]\n"
     ]
    }
   ],
   "source": [
    "AA_T = A@A.T\n",
    "print(AA_T)"
   ]
  },
  {
   "cell_type": "code",
   "execution_count": null,
   "id": "exclusive-confidentiality",
   "metadata": {},
   "outputs": [],
   "source": []
  },
  {
   "cell_type": "markdown",
   "id": "prime-audio",
   "metadata": {},
   "source": [
    "# Task 2"
   ]
  },
  {
   "cell_type": "markdown",
   "id": "comic-examination",
   "metadata": {},
   "source": [
    "\n",
    "Given \n",
    "\n",
    "$$\n",
    "A = \\begin{pmatrix}\n",
    "2 & 1\\\\ \n",
    "3 & 2\n",
    "\\end{pmatrix}\n",
    "B = \\begin{pmatrix}\n",
    "1 & 2\\\\ \n",
    "3 & 4\n",
    "\\end{pmatrix}\n",
    "$$ \n"
   ]
  },
  {
   "cell_type": "markdown",
   "id": "composed-accuracy",
   "metadata": {},
   "source": [
    "#### **(a)** Find $AB$\n"
   ]
  },
  {
   "cell_type": "code",
   "execution_count": 22,
   "id": "explicit-powell",
   "metadata": {},
   "outputs": [],
   "source": [
    "A = np.array([[ 2, 1 ],[ 3, 2]])\n",
    "B = np.array([[ 1, 2 ],[ 3, 4]])"
   ]
  },
  {
   "cell_type": "code",
   "execution_count": 24,
   "id": "artificial-division",
   "metadata": {},
   "outputs": [
    {
     "name": "stdout",
     "output_type": "stream",
     "text": [
      "[[ 5  8]\n",
      " [ 9 14]]\n"
     ]
    }
   ],
   "source": [
    "AB = A@B\n",
    "print(AB)"
   ]
  },
  {
   "cell_type": "markdown",
   "id": "painted-stocks",
   "metadata": {},
   "source": [
    "#### **(b)** Find $BA$\n"
   ]
  },
  {
   "cell_type": "code",
   "execution_count": 25,
   "id": "capital-plain",
   "metadata": {},
   "outputs": [
    {
     "name": "stdout",
     "output_type": "stream",
     "text": [
      "[[ 8  5]\n",
      " [18 11]]\n"
     ]
    }
   ],
   "source": [
    "BA = B@A\n",
    "print(BA)"
   ]
  },
  {
   "cell_type": "markdown",
   "id": "electronic-visit",
   "metadata": {},
   "source": [
    " "
   ]
  },
  {
   "cell_type": "markdown",
   "id": "broke-vatican",
   "metadata": {},
   "source": [
    "# Task 3\n"
   ]
  },
  {
   "cell_type": "markdown",
   "id": "major-surgery",
   "metadata": {},
   "source": [
    "#### **(a)** $Find A^{-1}$\n"
   ]
  },
  {
   "cell_type": "code",
   "execution_count": 28,
   "id": "fixed-cattle",
   "metadata": {},
   "outputs": [
    {
     "name": "stdout",
     "output_type": "stream",
     "text": [
      "[[ 2. -1.]\n",
      " [-3.  2.]]\n"
     ]
    }
   ],
   "source": [
    "# Inverse:\n",
    "print(inv(A))"
   ]
  },
  {
   "cell_type": "markdown",
   "id": "synthetic-trick",
   "metadata": {},
   "source": [
    "#### **(b)** $Find B^{-1}$\n"
   ]
  },
  {
   "cell_type": "code",
   "execution_count": 30,
   "id": "raising-handling",
   "metadata": {},
   "outputs": [
    {
     "name": "stdout",
     "output_type": "stream",
     "text": [
      "[[-2.   1. ]\n",
      " [ 1.5 -0.5]]\n"
     ]
    }
   ],
   "source": [
    "# Inverse:\n",
    "print(inv(B))"
   ]
  },
  {
   "cell_type": "code",
   "execution_count": null,
   "id": "opponent-twist",
   "metadata": {},
   "outputs": [],
   "source": []
  }
 ],
 "metadata": {
  "kernelspec": {
   "display_name": "Python 3",
   "language": "python",
   "name": "python3"
  },
  "language_info": {
   "codemirror_mode": {
    "name": "ipython",
    "version": 3
   },
   "file_extension": ".py",
   "mimetype": "text/x-python",
   "name": "python",
   "nbconvert_exporter": "python",
   "pygments_lexer": "ipython3",
   "version": "3.8.5"
  }
 },
 "nbformat": 4,
 "nbformat_minor": 5
}
