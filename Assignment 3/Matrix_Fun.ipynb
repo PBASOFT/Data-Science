{
 "cells": [
  {
   "cell_type": "markdown",
   "id": "decent-influence",
   "metadata": {},
   "source": [
    "# Task 1\n",
    "Given the two following matrices: \n",
    "\n",
    "$$\n",
    "A = \\begin{pmatrix}\n",
    "3 & 1\\\\ \n",
    "2 & 6\n",
    "\\end{pmatrix}\n",
    "B = \\begin{pmatrix}\n",
    "-1 & 4\\\\ \n",
    "3 & 8\n",
    "\\end{pmatrix}\n",
    "$$ \n"
   ]
  },
  {
   "cell_type": "code",
   "execution_count": 3,
   "id": "spiritual-yugoslavia",
   "metadata": {},
   "outputs": [],
   "source": [
    "import numpy as np\n",
    "from numpy.linalg import inv\n",
    "\n",
    "# Creating matrices\n",
    "A = np.array([[ 3, 1 ],[ 2, 6]])\n",
    "B = np.array([[ -1, 4 ],[ 3, 8]])\n"
   ]
  },
  {
   "cell_type": "markdown",
   "id": "round-pregnancy",
   "metadata": {},
   "source": [
    "**(a)** $Find A^{T}$"
   ]
  },
  {
   "cell_type": "code",
   "execution_count": 7,
   "id": "early-england",
   "metadata": {},
   "outputs": [
    {
     "name": "stdout",
     "output_type": "stream",
     "text": [
      "[[3 2]\n",
      " [1 6]]\n"
     ]
    }
   ],
   "source": [
    "print(A.T)"
   ]
  },
  {
   "cell_type": "markdown",
   "id": "improved-ensemble",
   "metadata": {},
   "source": [
    "**(b)** $Find B^{T}$"
   ]
  },
  {
   "cell_type": "code",
   "execution_count": 8,
   "id": "fresh-television",
   "metadata": {},
   "outputs": [
    {
     "name": "stdout",
     "output_type": "stream",
     "text": [
      "[[-1  3]\n",
      " [ 4  8]]\n"
     ]
    }
   ],
   "source": [
    "print(B.T)"
   ]
  },
  {
   "cell_type": "markdown",
   "id": "thousand-clone",
   "metadata": {},
   "source": [
    "\n",
    "**(c)** Find AB (matrix multiplication). Compare with simple multiplication\n",
    "(using * instead of @ in Python). Can you see what is the difference?\n"
   ]
  },
  {
   "cell_type": "code",
   "execution_count": 9,
   "id": "separated-hacker",
   "metadata": {},
   "outputs": [
    {
     "name": "stdout",
     "output_type": "stream",
     "text": [
      "[[-3  4]\n",
      " [ 6 48]]\n"
     ]
    }
   ],
   "source": [
    "print(A*B)"
   ]
  },
  {
   "cell_type": "code",
   "execution_count": 11,
   "id": "fatal-jesus",
   "metadata": {},
   "outputs": [
    {
     "name": "stdout",
     "output_type": "stream",
     "text": [
      "[[ 0 20]\n",
      " [16 56]]\n"
     ]
    }
   ],
   "source": [
    "print(A@B)"
   ]
  },
  {
   "cell_type": "code",
   "execution_count": null,
   "id": "interesting-chain",
   "metadata": {},
   "outputs": [],
   "source": []
  }
 ],
 "metadata": {
  "kernelspec": {
   "display_name": "Python 3",
   "language": "python",
   "name": "python3"
  },
  "language_info": {
   "codemirror_mode": {
    "name": "ipython",
    "version": 3
   },
   "file_extension": ".py",
   "mimetype": "text/x-python",
   "name": "python",
   "nbconvert_exporter": "python",
   "pygments_lexer": "ipython3",
   "version": "3.8.5"
  }
 },
 "nbformat": 4,
 "nbformat_minor": 5
}
