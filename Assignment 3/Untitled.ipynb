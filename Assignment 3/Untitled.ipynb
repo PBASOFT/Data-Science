{
 "cells": [
  {
   "cell_type": "markdown",
   "id": "effective-miami",
   "metadata": {},
   "source": [
    "# Task 1\n",
    "Given the two following matrices: \n",
    "\n",
    "$$\n",
    "A = \\begin{pmatrix}\n",
    "3 & 1\\\\ \n",
    "2 & 6\n",
    "\\end{pmatrix}\n",
    "B = \\begin{pmatrix}\n",
    "-1 & 4\\\\ \n",
    "3 & 8\n",
    "\\end{pmatrix}\n",
    "$$ \n"
   ]
  },
  {
   "cell_type": "code",
   "execution_count": 3,
   "id": "juvenile-hammer",
   "metadata": {},
   "outputs": [],
   "source": [
    "import numpy as np\n",
    "from numpy.linalg import inv\n",
    "\n",
    "# Creating matrices\n",
    "A = np.array([[ 3, 1 ],[ 2, 6]])\n",
    "B = np.array([[ -1, 4 ],[ 3, 8]])\n"
   ]
  },
  {
   "cell_type": "markdown",
   "id": "experimental-decade",
   "metadata": {},
   "source": [
    "(a) $Find A^{T}$"
   ]
  },
  {
   "cell_type": "code",
   "execution_count": 4,
   "id": "spread-simple",
   "metadata": {},
   "outputs": [
    {
     "data": {
      "text/plain": [
       "array([[3, 2],\n",
       "       [1, 6]])"
      ]
     },
     "execution_count": 4,
     "metadata": {},
     "output_type": "execute_result"
    }
   ],
   "source": [
    "A.T"
   ]
  },
  {
   "cell_type": "code",
   "execution_count": null,
   "id": "manual-shock",
   "metadata": {},
   "outputs": [],
   "source": []
  }
 ],
 "metadata": {
  "kernelspec": {
   "display_name": "Python 3",
   "language": "python",
   "name": "python3"
  },
  "language_info": {
   "codemirror_mode": {
    "name": "ipython",
    "version": 3
   },
   "file_extension": ".py",
   "mimetype": "text/x-python",
   "name": "python",
   "nbconvert_exporter": "python",
   "pygments_lexer": "ipython3",
   "version": "3.8.5"
  }
 },
 "nbformat": 4,
 "nbformat_minor": 5
}
