{
 "cells": [
  {
   "cell_type": "markdown",
   "id": "continuous-tutorial",
   "metadata": {},
   "source": [
    "# Python"
   ]
  },
  {
   "cell_type": "markdown",
   "id": "ahead-wallace",
   "metadata": {},
   "source": [
    "**(s)** Using Python and numpy, implement a mag(vec) function to return the\n",
    "magnitude (length) of a 2-dimensional vector (as a numpy array)."
   ]
  },
  {
   "cell_type": "code",
   "execution_count": 3,
   "id": "optical-reaction",
   "metadata": {},
   "outputs": [],
   "source": [
    "import numpy as np\n",
    "import math\n",
    "\n",
    "def mag(vec):\n",
    "    length = math.sqrt(vec[0]**2 + vec[1]**2)  \n",
    "    return length"
   ]
  },
  {
   "cell_type": "code",
   "execution_count": 4,
   "id": "metallic-title",
   "metadata": {},
   "outputs": [
    {
     "data": {
      "text/plain": [
       "5.830951894845301"
      ]
     },
     "execution_count": 4,
     "metadata": {},
     "output_type": "execute_result"
    }
   ],
   "source": [
    "mag([3,5])"
   ]
  },
  {
   "cell_type": "markdown",
   "id": "fiscal-andrew",
   "metadata": {},
   "source": [
    "**(t)** Likewise, implement a unit(vec) function to return the unit vector of a\n",
    "2-dimensional vector (as a numpy array)."
   ]
  },
  {
   "cell_type": "code",
   "execution_count": 5,
   "id": "quick-construction",
   "metadata": {},
   "outputs": [],
   "source": [
    "def unit(vec):\n",
    "    length = mag(vec)\n",
    "    unit_vector = vec/length\n",
    "    return unit_vector\n",
    "    \n",
    "    "
   ]
  },
  {
   "cell_type": "code",
   "execution_count": 6,
   "id": "sudden-force",
   "metadata": {},
   "outputs": [
    {
     "data": {
      "text/plain": [
       "array([0.83205029, 0.5547002 ])"
      ]
     },
     "execution_count": 6,
     "metadata": {},
     "output_type": "execute_result"
    }
   ],
   "source": [
    "vec = np.array([3,2])\n",
    "unit(vec)"
   ]
  },
  {
   "cell_type": "markdown",
   "id": "protecting-trunk",
   "metadata": {},
   "source": [
    "**(u)** Rotating a 2D vector 90 degrees counter clockwise is done by swapping x\n",
    "and y, and negating the new x. Implement rot90(vec). It must return a\n",
    "new numpy array, that is a 90 degree rotation of the vec input.\n",
    "Solve the following using Python, given"
   ]
  }
 ],
 "metadata": {
  "kernelspec": {
   "display_name": "Python 3",
   "language": "python",
   "name": "python3"
  },
  "language_info": {
   "codemirror_mode": {
    "name": "ipython",
    "version": 3
   },
   "file_extension": ".py",
   "mimetype": "text/x-python",
   "name": "python",
   "nbconvert_exporter": "python",
   "pygments_lexer": "ipython3",
   "version": "3.8.5"
  }
 },
 "nbformat": 4,
 "nbformat_minor": 5
}
